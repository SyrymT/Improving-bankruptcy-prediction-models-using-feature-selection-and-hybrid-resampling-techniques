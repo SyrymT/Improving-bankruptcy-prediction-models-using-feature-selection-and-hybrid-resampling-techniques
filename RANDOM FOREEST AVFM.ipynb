{
 "cells": [
  {
   "cell_type": "code",
   "execution_count": 8,
   "metadata": {},
   "outputs": [
    {
     "name": "stdout",
     "output_type": "stream",
     "text": [
      "Collecting mlxtend\n",
      "  Downloading mlxtend-0.23.0-py3-none-any.whl (1.4 MB)\n",
      "Requirement already satisfied: matplotlib>=3.0.0 in c:\\users\\syrym\\appdata\\local\\programs\\python\\python310\\lib\\site-packages (from mlxtend) (3.8.0)\n",
      "Requirement already satisfied: joblib>=0.13.2 in c:\\users\\syrym\\appdata\\local\\programs\\python\\python310\\lib\\site-packages (from mlxtend) (1.3.2)\n",
      "Requirement already satisfied: pandas>=0.24.2 in c:\\users\\syrym\\appdata\\local\\programs\\python\\python310\\lib\\site-packages (from mlxtend) (2.1.1)\n",
      "Requirement already satisfied: scipy>=1.2.1 in c:\\users\\syrym\\appdata\\local\\programs\\python\\python310\\lib\\site-packages (from mlxtend) (1.11.3)\n",
      "Requirement already satisfied: numpy>=1.16.2 in c:\\users\\syrym\\appdata\\local\\programs\\python\\python310\\lib\\site-packages (from mlxtend) (1.26.1)\n",
      "Requirement already satisfied: scikit-learn>=1.0.2 in c:\\users\\syrym\\appdata\\local\\programs\\python\\python310\\lib\\site-packages (from mlxtend) (1.3.2)\n",
      "Requirement already satisfied: pillow>=6.2.0 in c:\\users\\syrym\\appdata\\local\\programs\\python\\python310\\lib\\site-packages (from matplotlib>=3.0.0->mlxtend) (10.1.0)\n",
      "Requirement already satisfied: kiwisolver>=1.0.1 in c:\\users\\syrym\\appdata\\local\\programs\\python\\python310\\lib\\site-packages (from matplotlib>=3.0.0->mlxtend) (1.4.5)\n",
      "Requirement already satisfied: pyparsing>=2.3.1 in c:\\users\\syrym\\appdata\\roaming\\python\\python310\\site-packages (from matplotlib>=3.0.0->mlxtend) (3.0.9)\n",
      "Requirement already satisfied: packaging>=20.0 in c:\\users\\syrym\\appdata\\roaming\\python\\python310\\site-packages (from matplotlib>=3.0.0->mlxtend) (21.3)\n",
      "Requirement already satisfied: python-dateutil>=2.7 in c:\\users\\syrym\\appdata\\roaming\\python\\python310\\site-packages (from matplotlib>=3.0.0->mlxtend) (2.8.2)\n",
      "Requirement already satisfied: fonttools>=4.22.0 in c:\\users\\syrym\\appdata\\local\\programs\\python\\python310\\lib\\site-packages (from matplotlib>=3.0.0->mlxtend) (4.43.1)\n",
      "Requirement already satisfied: cycler>=0.10 in c:\\users\\syrym\\appdata\\local\\programs\\python\\python310\\lib\\site-packages (from matplotlib>=3.0.0->mlxtend) (0.12.1)\n",
      "Requirement already satisfied: contourpy>=1.0.1 in c:\\users\\syrym\\appdata\\local\\programs\\python\\python310\\lib\\site-packages (from matplotlib>=3.0.0->mlxtend) (1.1.1)\n",
      "Requirement already satisfied: pytz>=2020.1 in c:\\users\\syrym\\appdata\\local\\programs\\python\\python310\\lib\\site-packages (from pandas>=0.24.2->mlxtend) (2023.3.post1)\n",
      "Requirement already satisfied: tzdata>=2022.1 in c:\\users\\syrym\\appdata\\local\\programs\\python\\python310\\lib\\site-packages (from pandas>=0.24.2->mlxtend) (2023.3)\n",
      "Requirement already satisfied: six>=1.5 in c:\\users\\syrym\\appdata\\roaming\\python\\python310\\site-packages (from python-dateutil>=2.7->matplotlib>=3.0.0->mlxtend) (1.16.0)\n",
      "Requirement already satisfied: threadpoolctl>=2.0.0 in c:\\users\\syrym\\appdata\\local\\programs\\python\\python310\\lib\\site-packages (from scikit-learn>=1.0.2->mlxtend) (3.2.0)\n",
      "Installing collected packages: mlxtend\n",
      "Successfully installed mlxtend-0.23.0\n",
      "Note: you may need to restart the kernel to use updated packages.\n"
     ]
    },
    {
     "name": "stderr",
     "output_type": "stream",
     "text": [
      "WARNING: You are using pip version 21.2.4; however, version 23.3.1 is available.\n",
      "You should consider upgrading via the 'c:\\Users\\Syrym\\AppData\\Local\\Programs\\Python\\Python310\\python.exe -m pip install --upgrade pip' command.\n"
     ]
    }
   ],
   "source": [
    "%pip install mlxtend\n",
    "%pip install pycfs\n",
    "%pip install h5py\n",
    "%pip install tqdm\n"
   ]
  },
  {
   "cell_type": "code",
   "execution_count": 5,
   "metadata": {},
   "outputs": [
    {
     "name": "stdout",
     "output_type": "stream",
     "text": [
      "Collecting tqdm\n",
      "  Downloading tqdm-4.66.1-py3-none-any.whl (78 kB)\n",
      "Requirement already satisfied: colorama in c:\\users\\syrym\\appdata\\roaming\\python\\python310\\site-packages (from tqdm) (0.4.6)\n",
      "Installing collected packages: tqdm\n",
      "Successfully installed tqdm-4.66.1\n",
      "Note: you may need to restart the kernel to use updated packages.\n"
     ]
    },
    {
     "name": "stderr",
     "output_type": "stream",
     "text": [
      "  WARNING: The script tqdm.exe is installed in 'c:\\Users\\Syrym\\AppData\\Local\\Programs\\Python\\Python310\\Scripts' which is not on PATH.\n",
      "  Consider adding this directory to PATH or, if you prefer to suppress this warning, use --no-warn-script-location.\n",
      "WARNING: You are using pip version 21.2.4; however, version 23.3.1 is available.\n",
      "You should consider upgrading via the 'c:\\Users\\Syrym\\AppData\\Local\\Programs\\Python\\Python310\\python.exe -m pip install --upgrade pip' command.\n"
     ]
    }
   ],
   "source": []
  },
  {
   "cell_type": "code",
   "execution_count": 1,
   "metadata": {},
   "outputs": [],
   "source": [
    "from sklearn.metrics import fbeta_score, roc_auc_score, confusion_matrix, make_scorer\n",
    "from sklearn.tree import DecisionTreeClassifier\n",
    "from sklearn.ensemble import RandomForestClassifier\n",
    "from sklearn.model_selection import GridSearchCV, train_test_split\n",
    "from imblearn.pipeline import Pipeline\n",
    "from imblearn.combine import SMOTEENN\n",
    "from imblearn.over_sampling import ADASYN\n",
    "from sklearn.feature_selection import SelectKBest, mutual_info_classif\n",
    "import pandas as pd\n",
    "import matplotlib.pyplot as plt\n",
    "import seaborn as sns\n",
    "import numpy as np\n",
    "from imblearn.combine import SMOTEENN, SMOTETomek\n",
    "from sklearn.feature_selection import SelectKBest, mutual_info_classif, RFE"
   ]
  },
  {
   "cell_type": "code",
   "execution_count": 7,
   "metadata": {},
   "outputs": [
    {
     "name": "stdout",
     "output_type": "stream",
     "text": [
      "Columns with constant values: Index([' Net Income Flag'], dtype='object')\n"
     ]
    }
   ],
   "source": [
    "df = pd.read_csv(r'C:\\Users\\Syrym\\Downloads\\taiwanese+bankruptcy+prediction\\data.csv')\n",
    "# Check for constant values in each column\n",
    "constant_columns = df.columns[df.nunique() == 1]\n",
    "\n",
    "# Print columns with constant values\n",
    "print(\"Columns with constant values:\", constant_columns)\n",
    "df = df.drop(columns=constant_columns)"
   ]
  },
  {
   "cell_type": "code",
   "execution_count": 2,
   "metadata": {},
   "outputs": [
    {
     "data": {
      "text/plain": [
       "-36.77504393673111"
      ]
     },
     "execution_count": 2,
     "metadata": {},
     "output_type": "execute_result"
    }
   ],
   "source": [
    "# Calculating the percentage difference\n",
    "initial_value = 0.2276\n",
    "final_value = 0.1439\n",
    "\n",
    "percentage_change = ((final_value - initial_value) / initial_value) * 100\n",
    "percentage_change\n"
   ]
  },
  {
   "cell_type": "code",
   "execution_count": 3,
   "metadata": {},
   "outputs": [],
   "source": [
    "X = df.drop('Bankrupt?', axis=1) \n",
    "y = df['Bankrupt?'] \n",
    "\n",
    "# Split the data into training and testing sets with stratified sampling\n",
    "X_train, X_test, y_train, y_test = train_test_split(X, y, test_size=0.2, random_state=42, stratify=y)"
   ]
  },
  {
   "cell_type": "code",
   "execution_count": 10,
   "metadata": {},
   "outputs": [
    {
     "name": "stdout",
     "output_type": "stream",
     "text": [
      "Results for Random Forest Base Model\n",
      "best_params: {'criterion': 'gini', 'max_depth': 10, 'max_features': 'sqrt', 'min_samples_leaf': 3, 'min_samples_split': 3, 'n_estimators': 50}\n",
      "test_f2_score: 0.1871657754010695\n",
      "auc_score: 0.578030303030303\n",
      "type_i_error: 0.0030303030303030303\n",
      "type_ii_error: 0.8409090909090909\n"
     ]
    }
   ],
   "source": [
    "# F2-score scorer\n",
    "f2_scorer = make_scorer(fbeta_score, beta=2)\n",
    "\n",
    "param_grid = {\n",
    "    'n_estimators': [50, 100, 200, 300, 400, 500],\n",
    "    'max_depth': [5, 10, 15, 20, 25, 30],\n",
    "    'min_samples_split': range(3, 12, 3),\n",
    "    'min_samples_leaf': range(3, 12, 3),\n",
    "    'max_features': ['sqrt', 'log2'],\n",
    "    'criterion': ['gini', 'entropy']\n",
    "}\n",
    "\n",
    "# Create classifier\n",
    "rf_classifier = RandomForestClassifier(random_state=42)\n",
    "\n",
    "# Results in a dictionary\n",
    "results_dict = {}\n",
    "name = 'Random Forest Base Model'\n",
    "\n",
    "# Perform grid search\n",
    "grid_search = GridSearchCV(rf_classifier, param_grid, cv=5, scoring=f2_scorer, n_jobs=-1)\n",
    "grid_search.fit(X_train, y_train)\n",
    "y_test_pred_baseModel_RF = grid_search.predict(X_test)\n",
    "\n",
    "# Calculate confusion matrix, type I error,type II error\n",
    "conf_matrix = confusion_matrix(y_test, y_test_pred_baseModel_RF)\n",
    "tn, fp, fn, tp = conf_matrix.ravel()\n",
    "type_i_error = fp / (fp + tn)\n",
    "type_ii_error = fn / (fn + tp)\n",
    "\n",
    "# Results in the dictionary\n",
    "results_dict[name] = {\n",
    "    'best_params': grid_search.best_params_,\n",
    "    'test_f2_score': fbeta_score(y_test, y_test_pred_baseModel_RF, beta=2),\n",
    "    'auc_score': roc_auc_score(y_test, y_test_pred_baseModel_RF),\n",
    "    'type_i_error': type_i_error,\n",
    "    'type_ii_error': type_ii_error\n",
    "}\n",
    "\n",
    "\n",
    "print(\"Results for\", name)\n",
    "for metric, value in results_dict[name].items():\n",
    "    print(f\"{metric}: {value}\")\n"
   ]
  },
  {
   "cell_type": "code",
   "execution_count": 11,
   "metadata": {},
   "outputs": [
    {
     "name": "stdout",
     "output_type": "stream",
     "text": [
      "Results for SMOTETomek Random Forest\n",
      "best_params: {'criterion': 'entropy', 'max_depth': 25, 'max_features': 'sqrt', 'min_samples_leaf': 3, 'min_samples_split': 3, 'n_estimators': 200}\n",
      "test_f2_score: 0.6390977443609023\n",
      "auc_score: 0.865151515151515\n",
      "type_i_error: 0.04242424242424243\n",
      "type_ii_error: 0.22727272727272727\n"
     ]
    }
   ],
   "source": [
    "\n",
    "param_grid = {\n",
    "    'n_estimators': [100, 200, 300, 400, 500],\n",
    "    'max_depth': [5, 10, 15, 20, 25,30],\n",
    "    'min_samples_split': range(3, 12, 3),\n",
    "    'min_samples_leaf': range(3, 12, 3),\n",
    "    'max_features': ['sqrt', 'log2'],\n",
    "    'criterion': ['gini', 'entropy']\n",
    "}\n",
    "# Create a SMOTETomek sampler and apply\n",
    "samplerSMOTETomek = SMOTETomek(random_state=42)\n",
    "X_resampled_SMOTETomek, y_resampled_SMOTETomek = samplerSMOTETomek.fit_resample(X_train, y_train)\n",
    "\n",
    "\n",
    "# results in a dictionary\n",
    "results_dict = {}\n",
    "name = 'SMOTETomek Random Forest'\n",
    "\n",
    "# Perform grid search\n",
    "grid_search = GridSearchCV(rf_classifier, param_grid, cv=5, scoring=f2_scorer, n_jobs=-1)\n",
    "grid_search.fit(X_resampled_SMOTETomek,y_resampled_SMOTETomek)\n",
    "y_test_pred_resampled_SMOTETomek = grid_search.predict(X_test)\n",
    "\n",
    "# Calculate confusion matrix, type I error,type II error\n",
    "conf_matrix_resampled_SMOTETomek = confusion_matrix(y_test, y_test_pred_resampled_SMOTETomek)\n",
    "tn, fp, fn, tp = conf_matrix_resampled_SMOTETomek.ravel()\n",
    "type_i_error = fp / (fp + tn)\n",
    "type_ii_error = fn / (fn + tp)\n",
    "\n",
    "\n",
    "results_dict[name] = {\n",
    "    'best_params': grid_search.best_params_,\n",
    "    'test_f2_score': fbeta_score(y_test, y_test_pred_resampled_SMOTETomek, beta=2),\n",
    "    'auc_score': roc_auc_score(y_test, y_test_pred_resampled_SMOTETomek),\n",
    "    'type_i_error': type_i_error,\n",
    "    'type_ii_error': type_ii_error\n",
    "}\n",
    "\n",
    "\n",
    "print(\"Results for\", name)\n",
    "for metric, value in results_dict[name].items():\n",
    "    print(f\"{metric}: {value}\")\n"
   ]
  },
  {
   "cell_type": "code",
   "execution_count": 17,
   "metadata": {},
   "outputs": [
    {
     "name": "stdout",
     "output_type": "stream",
     "text": [
      "Results for SMOTETomek Random Forest with MI\n",
      "best_params: {'rf_classifier__criterion': 'entropy', 'rf_classifier__max_depth': 20, 'rf_classifier__max_features': 'sqrt', 'rf_classifier__min_samples_leaf': 3, 'rf_classifier__min_samples_split': 3, 'rf_classifier__n_estimators': 300, 'selectkbest__k': 40}\n",
      "test_f2_score: 0.6133828996282529\n",
      "auc_score: 0.8522727272727273\n",
      "type_i_error: 0.045454545454545456\n",
      "type_ii_error: 0.25\n"
     ]
    }
   ],
   "source": [
    "param_grid = {\n",
    "    'rf_classifier__n_estimators': [100,200, 300, 400, 500],\n",
    "    'rf_classifier__max_depth': [5, 10, 15, 20, 25, 30],\n",
    "    'rf_classifier__min_samples_split':  range(3, 12, 3),\n",
    "    'rf_classifier__min_samples_leaf': range(3, 12, 3),\n",
    "    'rf_classifier__max_features': ['sqrt', 'log2'],\n",
    "    'rf_classifier__criterion': ['gini', 'entropy'],\n",
    "    'selectkbest__k': [10,20, 30, 40,]  # Number of features to select\n",
    "}\n",
    "\n",
    "\n",
    "pipeline = Pipeline([\n",
    "    ('selectkbest', SelectKBest(mutual_info_classif)),\n",
    "    ('rf_classifier', rf_classifier)\n",
    "])\n",
    "\n",
    "# Results in a dictionary\n",
    "results_dict = {}\n",
    "name = 'SMOTETomek Random Forest with MI'\n",
    "\n",
    "# Perform grid search\n",
    "grid_search = GridSearchCV(pipeline, param_grid, cv=5, scoring=f2_scorer, n_jobs=-1)\n",
    "grid_search.fit(X_resampled_SMOTETomek, y_resampled_SMOTETomek)\n",
    "y_test_pred_resampled_SMOTETomek_MI = grid_search.predict(X_test)\n",
    "\n",
    "# Calculate confusion matrix, type I error,type II error\n",
    "conf_matrix_resampled_SMOTETomek_MI = confusion_matrix(y_test, y_test_pred_resampled_SMOTETomek_MI)\n",
    "tn, fp, fn, tp = conf_matrix_resampled_SMOTETomek_MI.ravel()\n",
    "type_i_error = fp / (fp + tn)\n",
    "type_ii_error = fn / (fn + tp)\n",
    "\n",
    "\n",
    "results_dict[name] = {\n",
    "    'best_params': grid_search.best_params_,\n",
    "    'test_f2_score': fbeta_score(y_test, y_test_pred_resampled_SMOTETomek_MI, beta=2),\n",
    "    'auc_score': roc_auc_score(y_test, y_test_pred_resampled_SMOTETomek_MI),\n",
    "    'type_i_error': type_i_error,\n",
    "    'type_ii_error': type_ii_error\n",
    "}\n",
    "\n",
    "\n",
    "print(\"Results for\", name)\n",
    "for metric, value in results_dict[name].items():\n",
    "    print(f\"{metric}: {value}\")\n"
   ]
  },
  {
   "cell_type": "code",
   "execution_count": 16,
   "metadata": {},
   "outputs": [
    {
     "name": "stdout",
     "output_type": "stream",
     "text": [
      "Results for SMOTETomek Random Forest with RFE\n",
      "best_params: {'rf_classifier__criterion': 'entropy', 'rf_classifier__max_depth': 15, 'rf_classifier__max_features': 'sqrt', 'rf_classifier__min_samples_leaf': 3, 'rf_classifier__min_samples_split': 3, 'rf_classifier__n_estimators': 200, 'rfe__n_features_to_select': 40}\n",
      "test_f2_score: 0.6106870229007633\n",
      "auc_score: 0.8431818181818181\n",
      "type_i_error: 0.04090909090909091\n",
      "type_ii_error: 0.2727272727272727\n"
     ]
    }
   ],
   "source": [
    "\n",
    "param_grid = {\n",
    "    'rf_classifier__n_estimators': [100, 200, 300, 400, 500],\n",
    "    'rf_classifier__max_depth': [5, 10, 15, 20, 25, 30],\n",
    "    'rf_classifier__min_samples_split': range(3, 12, 3),\n",
    "    'rf_classifier__min_samples_leaf':range(3, 12, 3),\n",
    "    'rf_classifier__max_features': ['sqrt', 'log2'],\n",
    "    'rf_classifier__criterion': ['gini', 'entropy'],\n",
    "    'rfe__n_features_to_select': [10, 20, 30, 40],  # Number of features to select\n",
    "}\n",
    "\n",
    "\n",
    "pipeline = Pipeline([\n",
    "    ('rfe', RFE(estimator=rf_classifier, step=5)),\n",
    "    ('rf_classifier', rf_classifier)\n",
    "])\n",
    "\n",
    "# 4esults in a dictionary\n",
    "results_dict = {}\n",
    "name = 'SMOTETomek Random Forest with RFE'\n",
    "\n",
    "# grid search\n",
    "grid_search = GridSearchCV(pipeline, param_grid, cv=5, scoring=f2_scorer, n_jobs=-1)\n",
    "grid_search.fit(X_resampled_SMOTETomek, y_resampled_SMOTETomek)\n",
    "y_test_pred_resampled_SMOTETomek_RFE = grid_search.predict(X_test)\n",
    "\n",
    "# Calculate confusion matrix, type I error,type II error\n",
    "conf_matrix_resampled_SMOTETomek_RFE = confusion_matrix(y_test, y_test_pred_resampled_SMOTETomek_RFE)\n",
    "tn, fp, fn, tp = conf_matrix_resampled_SMOTETomek_RFE.ravel()\n",
    "type_i_error = fp / (fp + tn)\n",
    "type_ii_error = fn / (fn + tp)\n",
    "\n",
    "\n",
    "results_dict[name] = {\n",
    "    'best_params': grid_search.best_params_,\n",
    "    'test_f2_score': fbeta_score(y_test, y_test_pred_resampled_SMOTETomek_RFE, beta=2),\n",
    "    'auc_score': roc_auc_score(y_test, y_test_pred_resampled_SMOTETomek_RFE),\n",
    "    'type_i_error': type_i_error,\n",
    "    'type_ii_error': type_ii_error\n",
    "}\n",
    "\n",
    "\n",
    "print(\"Results for\", name)\n",
    "for metric, value in results_dict[name].items():\n",
    "    print(f\"{metric}: {value}\")\n"
   ]
  }
 ],
 "metadata": {
  "kernelspec": {
   "display_name": "Python 3",
   "language": "python",
   "name": "python3"
  },
  "language_info": {
   "codemirror_mode": {
    "name": "ipython",
    "version": 3
   },
   "file_extension": ".py",
   "mimetype": "text/x-python",
   "name": "python",
   "nbconvert_exporter": "python",
   "pygments_lexer": "ipython3",
   "version": "3.10.2"
  }
 },
 "nbformat": 4,
 "nbformat_minor": 2
}
